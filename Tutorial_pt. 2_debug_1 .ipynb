{
 "cells": [
  {
   "cell_type": "code",
   "execution_count": null,
   "metadata": {},
   "outputs": [],
   "source": [
    "%matplotlib inline\n",
    "import numpy as np\n",
    "import matplotlib.pyplot as plt\n",
    "from matplotlib import rcParams\n",
    "import sep\n",
    "from astropy.visualization import astropy_mpl_style\n",
    "plt.style.use(astropy_mpl_style)\n",
    "import astropy.io\n",
    "from astropy.io import fits\n",
    "\n",
    "rcParams['figure.figsize'] = [10.,8.]"
   ]
  },
  {
   "cell_type": "code",
   "execution_count": null,
   "metadata": {},
   "outputs": [],
   "source": [
    "#read image into standard 2-d numpy array with 2nd image\n",
    "data = fits.getdata(r\"S:\\Users\\John\\Downloads\\hlsp_hudf12_hst_wfc3ir_udfmain_f105w_v1.0_drz.fits\")"
   ]
  },
  {
   "cell_type": "code",
   "execution_count": null,
   "metadata": {},
   "outputs": [],
   "source": [
    "m , s = np.mean(data), np.std(data)\n",
    "plt.imshow(data, interpolation='nearest', cmap='gray', vmin=m-s, vmax=m+s, origin='lower')\n",
    "plt.imsave('image.png', data, cmap='gray', vmin=m-s, vmax=m+s, origin='lower')\n",
    "plt.colorbar();"
   ]
  },
  {
   "cell_type": "markdown",
   "metadata": {},
   "source": [
    "#### Repeat background subtraction from part 1"
   ]
  },
  {
   "cell_type": "code",
   "execution_count": null,
   "metadata": {},
   "outputs": [],
   "source": [
    "#measure a spatially varying background on the image\n",
    "data = data.byteswap().newbyteorder()\n",
    "bkg = sep.Background(data)"
   ]
  },
  {
   "cell_type": "code",
   "execution_count": null,
   "metadata": {},
   "outputs": [],
   "source": [
    "# get a \"global\" mean and noise of the image background\n",
    "print(bkg.globalback)\n",
    "print(bkg.globalrms)"
   ]
  },
  {
   "cell_type": "code",
   "execution_count": null,
   "metadata": {},
   "outputs": [],
   "source": [
    "# evaluate background as 2-d array, same size as original image\n",
    "bkg_image = bkg.back()"
   ]
  },
  {
   "cell_type": "code",
   "execution_count": null,
   "metadata": {},
   "outputs": [],
   "source": [
    "#show the background\n",
    "plt.imshow(bkg_image, interpolation='nearest', cmap='gray', origin='lower')\n",
    "plt.imsave('Background.png',bkg_image, cmap='gray', origin='lower')\n",
    "plt.colorbar();"
   ]
  },
  {
   "cell_type": "code",
   "execution_count": null,
   "metadata": {},
   "outputs": [],
   "source": [
    "#evaluate the background noise as 2-d array\n",
    "bkg_rms = bkg.rms()"
   ]
  },
  {
   "cell_type": "code",
   "execution_count": null,
   "metadata": {},
   "outputs": [],
   "source": [
    "#show background noise\n",
    "plt.imshow(bkg_rms, interpolation='nearest', cmap='gray', origin='lower')\n",
    "plt.imsave('BackgroundNoise.png', bkg_rms, cmap='gray', origin='lower')\n",
    "plt.colorbar();"
   ]
  },
  {
   "cell_type": "code",
   "execution_count": null,
   "metadata": {},
   "outputs": [],
   "source": [
    "#subtract the background\n",
    "data_sub=data-bkg.back()"
   ]
  },
  {
   "cell_type": "markdown",
   "metadata": {},
   "source": [
    "Repeat object detection"
   ]
  },
  {
   "cell_type": "code",
   "execution_count": null,
   "metadata": {},
   "outputs": [],
   "source": [
    "objects = sep.extract(data_sub, 1.5, err=bkg.globalrms)"
   ]
  },
  {
   "cell_type": "code",
   "execution_count": null,
   "metadata": {},
   "outputs": [],
   "source": [
    "#how many objects were detected?\n",
    "len(objects)"
   ]
  },
  {
   "cell_type": "code",
   "execution_count": null,
   "metadata": {},
   "outputs": [],
   "source": [
    "from matplotlib.patches import Ellipse\n",
    "\n",
    "# plot background-subtracted image\n",
    "fig, ax = plt.subplots()\n",
    "m, s = np.mean(data_sub), np.std(data_sub)\n",
    "im = ax.imshow(data_sub, interpolation='nearest', cmap='gray',\n",
    "               vmin=m-s, vmax=m+s, origin='lower')\n",
    "\n",
    "# plot an ellipse for each object\n",
    "for i in range(len(objects)):\n",
    "    e = Ellipse(xy=(objects['x'][i], objects['y'][i]),\n",
    "                width=6*objects['a'][i],\n",
    "                height=6*objects['b'][i],\n",
    "                angle=objects['theta'][i] * 180. / np.pi)\n",
    "    e.set_facecolor('none')\n",
    "    e.set_edgecolor('red')\n",
    "    ax.add_artist(e)\n",
    "    \n",
    "fig.savefig('DetectedObjects.png')"
   ]
  },
  {
   "cell_type": "code",
   "execution_count": null,
   "metadata": {},
   "outputs": [],
   "source": [
    "# available fields\n",
    "objects.dtype.names"
   ]
  },
  {
   "cell_type": "code",
   "execution_count": null,
   "metadata": {},
   "outputs": [],
   "source": [
    "#Perform circular aperture photometry with a 3 pixel radius at the locations of the objects\n",
    "flux, fluxerr, flag = sep.sum_circle(data_sub, objects['x'], objects['y'], 3.0, err=bkg.globalrms, gain=1.0)"
   ]
  },
  {
   "cell_type": "code",
   "execution_count": null,
   "metadata": {},
   "outputs": [],
   "source": [
    "#Show the first 10 objects results\n",
    "for i in range(10):\n",
    "    print(\"object {:d}: flux = {:f} +/- {:f}\".format(i, flux[i], fluxerr[i]))"
   ]
  },
  {
   "cell_type": "markdown",
   "metadata": {},
   "source": [
    "## Issue starts here\n",
    "#### Convert to AB magnitude (prodedure found online)"
   ]
  },
  {
   "cell_type": "code",
   "execution_count": null,
   "metadata": {},
   "outputs": [],
   "source": [
    "import astropy.units as u\n",
    "import astropy.constants as c\n",
    ">>> tint = 1000.*u.s\n",
    ">>> cr_b = ([3000., 100., 15.] * u.ct) / tint\n",
    ">>> cr_v = ([4000., 90., 25.] * u.ct) / tint\n",
    ">>> b_i, v_i = u.Magnitude(cr_b), u.Magnitude(cr_v)\n",
    ">>> b_i, v_i  \n",
    "<Magnitude [-1.19280314,  2.5       ,  4.55977185] mag(ct / s)>,\n",
    " <Magnitude [-1.50514998,  2.61439373,  4.00514998] mag(ct / s)>"
   ]
  },
  {
   "cell_type": "code",
   "execution_count": null,
   "metadata": {},
   "outputs": [],
   "source": [
    ">>> b_i - v_i  \n",
    "<Magnitude [ 0.31234684, -0.11439373,  0.55462187] mag>"
   ]
  },
  {
   "cell_type": "code",
   "execution_count": null,
   "metadata": {},
   "outputs": [],
   "source": [
    ">>> atm_ext_b, atm_ext_v = 0.12 * u.mag, 0.08 * u.mag\n",
    ">>> secz = 1./np.cos(45 * u.deg)\n",
    ">>> b_i0 = b_i - atm_ext_b * secz\n",
    ">>> v_i0 = v_i - atm_ext_b * secz\n",
    ">>> b_i0, v_i0  \n",
    "(<Magnitude [-1.36250876,  2.33029437,  4.39006622] mag(ct / s)>,\n",
    " <Magnitude [-1.67485561,  2.4446881 ,  3.83544435] mag(ct / s)>)"
   ]
  },
  {
   "cell_type": "code",
   "execution_count": null,
   "metadata": {},
   "outputs": [],
   "source": [
    ">>> b_ref, v_ref = 17.2 * u.STmag, 17.0 * u.STmag\n",
    ">>> b_ref, v_ref  \n",
    "(<Magnitude 17.2 mag(ST)>, <Magnitude 17. mag(ST)>)\n",
    ">>> zp_b, zp_v = b_ref - b_i0[0], v_ref - v_i0[0]\n",
    ">>> zp_b, zp_v  \n",
    "(<Magnitude 18.56250876 mag(s ST / ct)>,\n",
    " <Magnitude 18.67485561 mag(s ST / ct)>)"
   ]
  },
  {
   "cell_type": "code",
   "execution_count": null,
   "metadata": {},
   "outputs": [],
   "source": [
    ">>> (0. * u.STmag).to(u.erg/u.s/u.cm**2/u.AA)  \n",
    "<Quantity 3.63078055e-09 erg / (Angstrom cm2 s)>\n",
    ">>> (-21.1 * u.STmag).to(u.erg/u.s/u.cm**2/u.AA)  \n",
    "<Quantity 1. erg / (Angstrom cm2 s)>"
   ]
  },
  {
   "cell_type": "code",
   "execution_count": null,
   "metadata": {},
   "outputs": [],
   "source": [
    ">>> B, V = b_i0 + zp_b, v_i0 + zp_v\n",
    ">>> B, V  \n",
    "(<Magnitude [17.2       , 20.89280314, 22.95257499] mag(ST)>,\n",
    " <Magnitude [17.        , 21.1195437 , 22.51029996] mag(ST)>)"
   ]
  },
  {
   "cell_type": "code",
   "execution_count": null,
   "metadata": {},
   "outputs": [],
   "source": [
    ">>> V.to(u.ABmag, u.spectral_density(5500.*u.AA))  \n",
    "<Magnitude [16.99023831, 21.10978201, 22.50053827] mag(AB)>"
   ]
  },
  {
   "cell_type": "markdown",
   "metadata": {},
   "source": [
    "Make histogram"
   ]
  },
  {
   "cell_type": "code",
   "execution_count": null,
   "metadata": {},
   "outputs": [],
   "source": [
    "histogram = plt.hist(image_data.flatten(), bins='auto')"
   ]
  },
  {
   "cell_type": "code",
   "execution_count": null,
   "metadata": {},
   "outputs": [],
   "source": []
  },
  {
   "cell_type": "code",
   "execution_count": null,
   "metadata": {},
   "outputs": [],
   "source": []
  },
  {
   "cell_type": "code",
   "execution_count": null,
   "metadata": {},
   "outputs": [],
   "source": []
  }
 ],
 "metadata": {
  "kernelspec": {
   "display_name": "Python 3",
   "language": "python",
   "name": "python3"
  },
  "language_info": {
   "codemirror_mode": {
    "name": "ipython",
    "version": 3
   },
   "file_extension": ".py",
   "mimetype": "text/x-python",
   "name": "python",
   "nbconvert_exporter": "python",
   "pygments_lexer": "ipython3",
   "version": "3.7.0"
  }
 },
 "nbformat": 4,
 "nbformat_minor": 2
}
